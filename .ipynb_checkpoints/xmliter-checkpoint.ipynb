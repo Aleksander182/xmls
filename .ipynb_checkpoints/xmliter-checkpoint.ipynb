{
 "cells": [
  {
   "cell_type": "code",
   "execution_count": 1,
   "metadata": {},
   "outputs": [],
   "source": [
    "import xml.etree.ElementTree as et\n",
    "import numpy as np\n",
    "import pandas as pd\n",
    "from datetime import datetime as dt\n",
    "import sqlite3\n",
    "import seaborn as sns\n",
    "import matplotlib.pyplot as plt\n",
    "import scipy.stats as stats\n",
    "import scipy\n",
    "pd.set_option(\"display.notebook_repr_html\", False)"
   ]
  },
  {
   "cell_type": "code",
   "execution_count": 241,
   "metadata": {},
   "outputs": [],
   "source": [
    "def sortchildrenby(parent, attr):\n",
    "    parent[:] = sorted(parent, key=lambda child: child.get(attr))\n",
    "tree=et.parse(\"Lydiapro.xml\")\n",
    "root=tree.getroot()"
   ]
  },
  {
   "cell_type": "code",
   "execution_count": 236,
   "metadata": {},
   "outputs": [],
   "source": [
    "p_c=pd.read_csv('sec.csv')\n",
    "p_c.columns=p_c.iloc[0].fillna(\"nn\")\n",
    "pcc=p_c.reindex(p_c.index.drop(0))\n",
    "df=pcc.drop(pcc.columns[[0]], axis=1).fillna(\"\")\n",
    "l=[]\n",
    "for i in range(len(df)): \n",
    "    l.append(df.iloc[i].to_dict())"
   ]
  },
  {
   "cell_type": "code",
   "execution_count": 253,
   "metadata": {},
   "outputs": [
    {
     "data": {
      "text/plain": [
       "653"
      ]
     },
     "execution_count": 253,
     "metadata": {},
     "output_type": "execute_result"
    }
   ],
   "source": [
    "shape=root[1][1][4]\n",
    "s=0\n",
    "for ch in shape:\n",
    "    s=s+1\n",
    "s"
   ]
  },
  {
   "cell_type": "code",
   "execution_count": 254,
   "metadata": {},
   "outputs": [
    {
     "data": {
      "text/plain": [
       "682"
      ]
     },
     "execution_count": 254,
     "metadata": {},
     "output_type": "execute_result"
    }
   ],
   "source": [
    "for p in l:\n",
    "    et.SubElement(shape,\"row\",p)\n",
    "s=0\n",
    "for ch in shape:\n",
    "    s=s+1\n",
    "s"
   ]
  },
  {
   "cell_type": "code",
   "execution_count": 256,
   "metadata": {},
   "outputs": [],
   "source": [
    "sortchildrenby(root[1][0][4], 'name')\n",
    "tree.write('lt.xml')"
   ]
  },
  {
   "cell_type": "code",
   "execution_count": 268,
   "metadata": {},
   "outputs": [
    {
     "name": "stdout",
     "output_type": "stream",
     "text": [
      "{'A_1': '0', 'A_2': '0', 'B': '100', 'B_2': '0', 'DIM1': '100', 'DIM2': '100', 'DIM3': '0', 'EA': '6', 'ES': '8', 'ES_2': '0', 'GAMMA': '0', 'GAP': '0', 'H': '100', 'HAS_MATS': 'false', 'ID': '2345', 'IOMEGA': '0', 'IS_THIN': 'false', 'IX': '40181,3333', 'IY': '3780000', 'IYb': '3830000', 'IYn': '3830000', 'IZ': '1340000', 'MASS': '16,9', 'MATERIALS': '', 'MSY': '87597,54', 'MSZ': '41205,29', 'NAME': 'HW', 'NAME1': 'HW 100x100', 'NAME_REVIT': 'HW100x100', 'P1_L': '0', 'P1_T': '0', 'P2_L': '0', 'P2_T': '0', 'P3_L': '0', 'P3_T': '0', 'P4_L': '0', 'P4_T': '0', 'POINTS': '', 'RA': '8', 'RS': '0', 'SHAPE_TYPE': '13', 'SHEAR_QY': '0', 'SHEAR_QZ': '0', 'SURF': '0,574', 'SX': '2158', 'SY': '1600', 'SYMBOL': '', 'SZ': '600', 'TORS': '5022,67', 'VPY': '50', 'VPZ': '50', 'VY': '50', 'VZ': '50'}\n",
      "{'A_1': '0', 'A_2': '0', 'B': '100', 'B_2': '0', 'DIM1': '100', 'DIM2': '100', 'DIM3': '0', 'EA': '6', 'ES': '8', 'ES_2': '0', 'GAMMA': '0', 'GAP': '0', 'H': '100', 'HAS_MATS': 'FALSE', 'ID': '2345', 'IOMEGA': '0', 'IS_THIN': 'FALSE', 'IX': '40181.3333', 'IY': '3781227', 'IYb': '3781226.89', 'IYn': '3781226.89', 'IZ': '1341410.257', 'MASS': '16.9', 'MATERIALS': '', 'MSY': '84184', 'MSZ': '40756', 'NAME': 'HW', 'NAME1': 'HW 100x100x0', 'NAME_REVIT': 'HW 100x100x0', 'P1_L': '0', 'P1_T': '0', 'P2_L': '0', 'P2_T': '0', 'P3_L': '0', 'P3_T': '0', 'P4_L': '0', 'P4_T': '0', 'POINTS': '', 'RA': '8', 'RS': '0', 'SHAPE_TYPE': '13', 'SHEAR_QY': '0', 'SHEAR_QZ': '0', 'SURF': '0.574', 'SX': '2159', 'SY': '1600', 'SYMBOL': '', 'SZ': '600', 'TORS': '5094.5', 'VPY': '50', 'VPZ': '50', 'VY': '50', 'VZ': '50'}\n"
     ]
    }
   ],
   "source": [
    "tree1=et.parse(\"lt.xml\")\n",
    "root1=tree1.getroot()\n",
    "for child in root1[1][1][4]:\n",
    "    if child.get(\"ID\")=='2345':\n",
    "        print(child.attrib)"
   ]
  },
  {
   "cell_type": "code",
   "execution_count": null,
   "metadata": {},
   "outputs": [],
   "source": []
  }
 ],
 "metadata": {
  "kernelspec": {
   "display_name": "Python 3",
   "language": "python",
   "name": "python3"
  },
  "language_info": {
   "codemirror_mode": {
    "name": "ipython",
    "version": 3
   },
   "file_extension": ".py",
   "mimetype": "text/x-python",
   "name": "python",
   "nbconvert_exporter": "python",
   "pygments_lexer": "ipython3",
   "version": "3.7.0"
  }
 },
 "nbformat": 4,
 "nbformat_minor": 2
}
